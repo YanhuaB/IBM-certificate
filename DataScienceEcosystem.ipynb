{
 "cells": [
  {
   "cell_type": "markdown",
   "id": "aed2b799-0141-46d8-a6e1-990801d37130",
   "metadata": {},
   "source": [
    "# Exercise 2: Create markdown cell with title of the notebook\n",
    "Create a markdown cell with the title Data Science Tools and Ecosystem using H1 style heading.  \n",
    "Take a screenshot of the markdown cell and name it as 2-title.png (Images can be saved with either the .jpg or .png extension.)"
   ]
  },
  {
   "cell_type": "markdown",
   "id": "9fe0926b-459f-452d-a828-b655f07d6cd3",
   "metadata": {},
   "source": [
    "# Data Science Tools and Ecosystem"
   ]
  },
  {
   "cell_type": "markdown",
   "id": "08bc78a0-bcff-4b49-9ad4-cb2c1d876c1c",
   "metadata": {},
   "source": [
    "# Data Science Tools and Ecosystem"
   ]
  },
  {
   "cell_type": "markdown",
   "id": "8e5f0795-a8ac-42cc-9867-706b9f9ffdfd",
   "metadata": {
    "tags": []
   },
   "source": [
    "# Exercise 3 - Create a markdown cell for an introduction\n",
    "Write an introductory sentence about the notebook such as the follows:  \n",
    "\n",
    "In this notebook, Data Science Tools and Ecosystem are summarized.  \n",
    "Take a screenshot of the markdown cell and name it as 3-intro.png (Images can be saved with either the .jpg or .png extension.)"
   ]
  },
  {
   "cell_type": "markdown",
   "id": "a89a930b-c58f-4347-b1e2-23bb472220c0",
   "metadata": {},
   "source": [
    "In this notebook, Data Science Tools and Ecosystem are summarized."
   ]
  },
  {
   "cell_type": "markdown",
   "id": "26b75348-123a-4c41-900a-cd3a6815e7da",
   "metadata": {},
   "source": [
    "In this notebook, Data Science Tools and Ecosystem are summarized."
   ]
  },
  {
   "cell_type": "markdown",
   "id": "d0e4b5c6-c0ad-4fb9-a27e-c97621cdc930",
   "metadata": {
    "tags": []
   },
   "source": [
    "# Exercise 4 - Create a markdown cell to list data science languages\n",
    "Start the cell with an overview line such as:  \n",
    "\n",
    "Some of the popular languages that Data Scientists use are:  \n",
    "Then create an ordered list (i.e. numbered) listing 3 (or more) commonly used languages for data science.  \n",
    "Take a screenshot of the markdown cell and name it as 4-dslanguages.png (Images can be saved with either the .jpg or .png extension.)"
   ]
  },
  {
   "cell_type": "markdown",
   "id": "12a9bea1-0426-49b2-b223-117c92e46400",
   "metadata": {},
   "source": [
    "Some of the popular languages that Data Scientists use are:  \n",
    "1. Python\n",
    "2. R\n",
    "3. Java"
   ]
  },
  {
   "cell_type": "markdown",
   "id": "55f795f4-cbdf-4ee8-b499-61c8410048e5",
   "metadata": {},
   "source": [
    "Some of the popular languages that Data Scientists use are:  \n",
    "1. Python\n",
    "2. R\n",
    "3. Java"
   ]
  },
  {
   "cell_type": "markdown",
   "id": "3217ec7e-b120-49cc-b189-86e1d65d3c9f",
   "metadata": {
    "tags": []
   },
   "source": [
    "# Exercise 5 - Create a markdown cell to list data science libraries\n",
    "Add an overview line to the cell like:  \n",
    "  \n",
    "Some of the commonly used libraries used by Data Scientists include:  \n",
    "  \n",
    "Below this line add an ordered list listing 3 (or more) commonly used libraries in data science.  \n",
    "Take a screenshot of the markdown cell and name it as 5-dslibraries.png (Images can be saved with either the .jpg or .png extension.)  "
   ]
  },
  {
   "cell_type": "markdown",
   "id": "21d3a365-f820-48a4-9bad-64c5de82104a",
   "metadata": {},
   "source": [
    "Some of the commonly used libraries used by Data Scientists include:  \n",
    "1. NumPy\n",
    "2. Pandas\n",
    "3. Matplotlib"
   ]
  },
  {
   "cell_type": "markdown",
   "id": "09c41120-20cc-454a-afce-ecad23476dca",
   "metadata": {},
   "source": [
    "Some of the commonly used libraries used by Data Scientists include:  \n",
    "1. NumPy\n",
    "2. Pandas\n",
    "3. Matplotlib"
   ]
  },
  {
   "cell_type": "markdown",
   "id": "2dcbf2c2-cb54-4496-aa43-45391f9fce17",
   "metadata": {
    "tags": []
   },
   "source": [
    "# Exercise 6 - Create a markdown cell with a table of Data Science tools\n",
    "Create a single column table in this cell with the first row containing the **header Data Science Tools**. The subsequent three rows in the table should indicate three development environment open source tools used in data science.  \n",
    "  \n",
    "Take a screenshot of the markdown cell and name it as 6-dstools.png (Images can be saved with either the .jpg or .png extension.)  \n",
    "Hint: Refer to Lab: Using Markdowns in Jupyter Notebooks to create a table."
   ]
  },
  {
   "cell_type": "markdown",
   "id": "41976590-5810-4bf8-b2a8-06a59e7815f0",
   "metadata": {},
   "source": [
    "| Data Science Tools|\n",
    "| ----------------- |\n",
    "|VS Code|\n",
    "|Jupyter Notebook|\n",
    "|RStudio|"
   ]
  },
  {
   "cell_type": "markdown",
   "id": "b87b4e6d-0386-42a5-a7a1-c3391f44f3bc",
   "metadata": {},
   "source": [
    "| Data Science Tools|\n",
    "| ----------------- |\n",
    "|VS Code|\n",
    "|Jupyter Notebook|\n",
    "|RStudio|"
   ]
  },
  {
   "cell_type": "markdown",
   "id": "7385dd4c-7f85-4f08-9467-7b92ec901eb9",
   "metadata": {
    "tags": []
   },
   "source": [
    "# Exercise 7 - Create a markdown cell introducing arithmetic expression examples\n",
    "Add a line in this cell with H3 style heading with text like:  \n",
    "  \n",
    "Below are a few examples of evaluating arithmetic expressions in Python.  \n",
    "  \n",
    "Take a screenshot of the markdown cell and name it as 7-introarithmetic.png (Images can be saved with either the .jpg or .png extension.)"
   ]
  },
  {
   "cell_type": "markdown",
   "id": "ca947a1b-7ecb-4cc0-940d-5964c87bf9ee",
   "metadata": {},
   "source": [
    "### Below are a few examples of evaluating arithmetic expressions in Python."
   ]
  },
  {
   "cell_type": "markdown",
   "id": "29cad010-7d69-494d-b815-200765485bf0",
   "metadata": {},
   "source": [
    "### Below are a few examples of evaluating arithmetic expressions in Python."
   ]
  },
  {
   "cell_type": "markdown",
   "id": "6fc1306d-ddd7-410d-afd1-7012374d28c8",
   "metadata": {
    "tags": []
   },
   "source": [
    "# Exercise 8 - Create a code cell to multiply and add numbers\n",
    "In this code cell evaluate the expression (3*4)+5.  \n",
    "Insert a comment line before the expression to explain the operation e.g.  This a simple arithmetic expression to mutiply then add integers.  \n",
    "Then execute the cell to ensure the expression returns the expected output of 17.  \n",
    "Take a screenshot of the code cell with output and name it as 8-multiplyandaddintegers.png (Images can be saved with either the .jpg or .png extension.)  "
   ]
  },
  {
   "cell_type": "code",
   "execution_count": 1,
   "id": "9cd83bd6-4cf4-47e0-a487-aa14ff3b6de6",
   "metadata": {
    "tags": []
   },
   "outputs": [
    {
     "data": {
      "text/plain": [
       "17"
      ]
     },
     "execution_count": 1,
     "metadata": {},
     "output_type": "execute_result"
    }
   ],
   "source": [
    "# This a simple arithmetic expression to mutiply then add integers\n",
    "(3*4)+5"
   ]
  },
  {
   "cell_type": "markdown",
   "id": "aab4c9c3-8362-46cc-ade9-0dc22c98734a",
   "metadata": {
    "tags": []
   },
   "source": [
    "# Exercise 9 - Create a code cell to convert minutes to hours\n",
    "In this code cell write an expression that converts 200 minutes into hours.  \n",
    "Insert a comment line before the expression to explain the operation e.g.  This will convert 200 minutes to hours by diving by 60.  \n",
    "Run the cell to evaluate the expression.  \n",
    "Take a screenshot of the code cell with output and name it as 9-hourstominutes.png (Images can be saved with either the .jpg or .png extension.)"
   ]
  },
  {
   "cell_type": "code",
   "execution_count": 11,
   "id": "b49a9c4e-7548-4be9-9c4b-81b8ac319549",
   "metadata": {
    "tags": []
   },
   "outputs": [
    {
     "name": "stdout",
     "output_type": "stream",
     "text": [
      "200 minutes = 3.3333333333333335 hours\n"
     ]
    }
   ],
   "source": [
    "# This will convert 200 minutes to hours by diving by 60\n",
    "print(\"200 minutes = \" + str(200 / 60) + \" hours\")"
   ]
  },
  {
   "cell_type": "markdown",
   "id": "e184b26d-9131-47e3-a88b-ce39608de94a",
   "metadata": {
    "tags": []
   },
   "source": [
    "# Exercise 10 - Insert a markdown cell to list Objectives\n",
    "Below the introduction cell created in Exercise 3, insert a new markdown cell to list the objectives that this notebook covered (i.e. some of the key takeaways from the course). In this new cell start with an introductory line titled: Objectives: in bold font. Then using an unordered list (bullets) indicate 3 to 5 items covered in this notebook, such as List popular languages for Data Science.  \n",
    "Take a screenshot of the markdown cell and name it as 10-objectives.png (Images can be saved with either the .jpg or .png extension.)"
   ]
  },
  {
   "cell_type": "markdown",
   "id": "e1c479d9-e7f5-4722-bd1b-ec08f39a7d14",
   "metadata": {},
   "source": [
    "In this notebook, Data Science Tools and Ecosystem are summarized."
   ]
  },
  {
   "cell_type": "markdown",
   "id": "70096b4d-d4ac-46c6-a6fb-f5227f3e82e3",
   "metadata": {},
   "source": [
    "**Objectives:**\n",
    "- List popular languages for Data Science\n",
    "- Some of the commonly used libraries used by Data Scientists\n",
    "- Some of the popular languages that Data Scientists use"
   ]
  },
  {
   "cell_type": "markdown",
   "id": "9977feaa-2add-47df-95f2-fe0a7aa0ef96",
   "metadata": {},
   "source": [
    "**Objectives:**\n",
    "- List popular languages for Data Science\n",
    "- Some of the commonly used libraries used by Data Scientists\n",
    "- Some of the popular languages that Data Scientists use"
   ]
  },
  {
   "cell_type": "markdown",
   "id": "6e592494-27f6-4889-87fc-fbb7f2dcb9c2",
   "metadata": {
    "tags": []
   },
   "source": [
    "# Exercise 11 - Create a markdown cell to indicate the Author's name\n",
    "In this markdown cell markdown cell include the following text Author in H2 style heading. Include your name as regular text below the word Author.  \n",
    "Take a screenshot of the markdown cell and name it as 11-authordetails.png (Images can be saved with either the .jpg or .png extension.)  \n",
    "\n",
    "Note: Save and download the notebook.  "
   ]
  },
  {
   "cell_type": "markdown",
   "id": "a32c38df-7840-43c3-84a2-b5f8fe50ef16",
   "metadata": {},
   "source": [
    "## Author\n",
    "Yanhua Bai"
   ]
  },
  {
   "cell_type": "markdown",
   "id": "f739cc6a-e4ec-46c1-826e-9f4acdad973e",
   "metadata": {},
   "source": [
    "## Author\n",
    "Yanhua Bai"
   ]
  }
 ],
 "metadata": {
  "kernelspec": {
   "display_name": "Python",
   "language": "python",
   "name": "conda-env-python-py"
  },
  "language_info": {
   "codemirror_mode": {
    "name": "ipython",
    "version": 3
   },
   "file_extension": ".py",
   "mimetype": "text/x-python",
   "name": "python",
   "nbconvert_exporter": "python",
   "pygments_lexer": "ipython3",
   "version": "3.7.12"
  }
 },
 "nbformat": 4,
 "nbformat_minor": 5
}
